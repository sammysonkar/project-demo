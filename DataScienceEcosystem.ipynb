{
  "nbformat": 4,
  "nbformat_minor": 0,
  "metadata": {
    "colab": {
      "provenance": [],
      "authorship_tag": "ABX9TyPwchZK5wsBNf6owcDgXhd2",
      "include_colab_link": true
    },
    "kernelspec": {
      "name": "python3",
      "display_name": "Python 3"
    },
    "language_info": {
      "name": "python"
    }
  },
  "cells": [
    {
      "cell_type": "markdown",
      "metadata": {
        "id": "view-in-github",
        "colab_type": "text"
      },
      "source": [
        "<a href=\"https://colab.research.google.com/github/sammysonkar/project-demo/blob/main/DataScienceEcosystem.ipynb\" target=\"_parent\"><img src=\"https://colab.research.google.com/assets/colab-badge.svg\" alt=\"Open In Colab\"/></a>"
      ]
    },
    {
      "cell_type": "code",
      "execution_count": null,
      "metadata": {
        "id": "7kSjskFTNjot"
      },
      "outputs": [],
      "source": [
        "#Data Science Tools and Ecosystem"
      ]
    },
    {
      "cell_type": "code",
      "source": [
        "#In this notebook, Data Science Tools and Ecosystem are summarized.\n",
        "#Objectives:\n",
        "#List popular languages for Data Science\n",
        "#List popular libraries for Data Science\n",
        "#List popular tools for Data Science\n"
      ],
      "metadata": {
        "id": "uKOIRJY6YYlt"
      },
      "execution_count": null,
      "outputs": []
    },
    {
      "cell_type": "code",
      "source": [
        "#Some of the popular languages that Data Scientists use are:\n",
        "#python\n",
        "#R\n",
        "#SQL"
      ],
      "metadata": {
        "id": "HOgs9Mp6Yace"
      },
      "execution_count": null,
      "outputs": []
    },
    {
      "cell_type": "code",
      "source": [
        "#Some of the commonly used libraries used by Data Scientists include:\n",
        "#seaborn\n",
        "#matplotlib\n",
        "#numpy"
      ],
      "metadata": {
        "id": "5a9Ohb3IZOVY"
      },
      "execution_count": null,
      "outputs": []
    },
    {
      "cell_type": "code",
      "source": [
        "#Data Science Tools\n",
        "#Jupyter Notebook\n",
        "#RStudio\n",
        "#VS Code (with Python extensions)"
      ],
      "metadata": {
        "id": "KRd_tPaHdH5I"
      },
      "execution_count": null,
      "outputs": []
    },
    {
      "cell_type": "code",
      "source": [
        "#Below are a few examples of evaluating arithmetic expressions in Python\n",
        "# + (addition)\n",
        "# - (subtraction)\n",
        "# * (multiplication)\n",
        "# / (division)\n",
        "# % (modulo)"
      ],
      "metadata": {
        "id": "XO1pa_YjePmH"
      },
      "execution_count": null,
      "outputs": []
    },
    {
      "cell_type": "code",
      "source": [
        "(3*4)+5"
      ],
      "metadata": {
        "colab": {
          "base_uri": "https://localhost:8080/"
        },
        "id": "DnjvrDBbfGWh",
        "outputId": "31819475-40e8-4d30-cad8-57ad436d86bf"
      },
      "execution_count": 1,
      "outputs": [
        {
          "output_type": "execute_result",
          "data": {
            "text/plain": [
              "17"
            ]
          },
          "metadata": {},
          "execution_count": 1
        }
      ]
    },
    {
      "cell_type": "code",
      "source": [
        "#This will convert 200 minutes to hours by diving by 60\n",
        "200/60"
      ],
      "metadata": {
        "colab": {
          "base_uri": "https://localhost:8080/"
        },
        "id": "do3MIGSe_aa1",
        "outputId": "7c15572a-e4e8-4877-bcc3-6dfbf2fb4c77"
      },
      "execution_count": 2,
      "outputs": [
        {
          "output_type": "execute_result",
          "data": {
            "text/plain": [
              "3.3333333333333335"
            ]
          },
          "metadata": {},
          "execution_count": 2
        }
      ]
    },
    {
      "cell_type": "code",
      "source": [
        "# Author\n",
        "#Samriddha Sonkar"
      ],
      "metadata": {
        "id": "MCrg9twlKo51"
      },
      "execution_count": null,
      "outputs": []
    }
  ]
}